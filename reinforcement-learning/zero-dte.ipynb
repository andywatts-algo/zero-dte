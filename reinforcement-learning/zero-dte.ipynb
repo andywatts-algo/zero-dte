{
 "cells": [
  {
   "cell_type": "code",
   "execution_count": 119,
   "metadata": {},
   "outputs": [
    {
     "name": "stdout",
     "output_type": "stream",
     "text": [
      "The autoreload extension is already loaded. To reload it, use:\n",
      "  %reload_ext autoreload\n"
     ]
    }
   ],
   "source": [
    "%load_ext autoreload\n",
    "%autoreload 2\n",
    "import gymnasium as gym\n",
    "import pandas as pd\n",
    "from stable_baselines3 import PPO\n",
    "from stable_baselines3.common.monitor import Monitor\n",
    "from stable_baselines3.common.vec_env import DummyVecEnv, VecVideoRecorder\n",
    "\n",
    "np.set_printoptions(suppress=True)\n",
    "import numpy as np\n",
    "\n",
    "from gymnasium.envs.registration import register"
   ]
  },
  {
   "cell_type": "code",
   "execution_count": 101,
   "metadata": {},
   "outputs": [],
   "source": [
    "config = {\n",
    "    \"policy_type\": \"MlpPolicy\",\n",
    "    \"total_timesteps\": 50_000,\n",
    "    \"env_name\": \"ZeroDte-v0\",\n",
    "}"
   ]
  },
  {
   "cell_type": "code",
   "execution_count": 120,
   "metadata": {},
   "outputs": [
    {
     "name": "stderr",
     "output_type": "stream",
     "text": [
      "/usr/local/lib/python3.10/site-packages/gymnasium/envs/registration.py:694: UserWarning: \u001b[33mWARN: Overriding environment ZeroDte-v0 already in registry.\u001b[0m\n",
      "  logger.warn(f\"Overriding environment {new_spec.id} already in registry.\")\n"
     ]
    },
    {
     "name": "stdout",
     "output_type": "stream",
     "text": [
      "Number of quotes loaded: 504021\n",
      "atm_strike: ms_of_day      34200000\n",
      "strike          4745000\n",
      "call_mid            0.0\n",
      "put_mid             0.0\n",
      "time_of_day    09:30:00\n",
      "Name: 10, dtype: object\n",
      "atm_strike: ms_of_day      34200000\n",
      "strike          4745000\n",
      "call_mid            0.0\n",
      "put_mid             0.0\n",
      "time_of_day    09:30:00\n",
      "Name: 10, dtype: object\n"
     ]
    },
    {
     "name": "stderr",
     "output_type": "stream",
     "text": [
      "/usr/local/lib/python3.10/site-packages/gymnasium/utils/passive_env_checker.py:135: UserWarning: \u001b[33mWARN: The obs returned by the `reset()` method was expecting numpy array dtype to be float32, actual type: float64\u001b[0m\n",
      "  logger.warn(\n",
      "/usr/local/lib/python3.10/site-packages/gymnasium/utils/passive_env_checker.py:159: UserWarning: \u001b[33mWARN: The obs returned by the `reset()` method is not within the observation space.\u001b[0m\n",
      "  logger.warn(f\"{pre} is not within the observation space.\")\n"
     ]
    },
    {
     "data": {
      "text/plain": [
       "(array([ 4695000.,        0.,        0.,  4700000.,        0.,        0.,\n",
       "         4705000.,        0.,        0.,  4710000.,        0.,        0.,\n",
       "         4715000.,        0.,        0.,  4720000.,        0.,        0.,\n",
       "         4725000.,        0.,        0.,  4730000.,        0.,        0.,\n",
       "         4735000.,        0.,        0.,  4740000.,        0.,        0.,\n",
       "         4745000.,        0.,        0.,  4750000.,        0.,        0.,\n",
       "         4755000.,        0.,        0.,  4760000.,        0.,        0.,\n",
       "         4765000.,        0.,        0.,  4770000.,        0.,        0.,\n",
       "         4775000.,        0.,        0.,  4780000.,        0.,        0.,\n",
       "         4785000.,        0.,        0.,  4790000.,        0.,        0.,\n",
       "         4795000.,        0.,        0., 34200000.,        0.,        0.,\n",
       "               0.,        0.,     1000.]),\n",
       " {})"
      ]
     },
     "execution_count": 120,
     "metadata": {},
     "output_type": "execute_result"
    }
   ],
   "source": [
    "register(id=\"ZeroDte-v0\", entry_point=\"zero_dte_env:ZeroDteEnv\")\n",
    "env = gym.make(config[\"env_name\"], config=config)\n",
    "env.reset()"
   ]
  },
  {
   "cell_type": "code",
   "execution_count": 127,
   "metadata": {},
   "outputs": [
    {
     "data": {
      "text/plain": [
       "(array([ 4695000.   ,       45.6  ,        0.55 ,  4700000.   ,\n",
       "              40.9  ,        0.825,  4705000.   ,       36.35 ,\n",
       "               1.225,  4710000.   ,       31.95 ,        1.775,\n",
       "         4715000.   ,       27.65 ,        2.525,  4720000.   ,\n",
       "              23.7  ,        3.5  ,  4725000.   ,       20.   ,\n",
       "               4.8  ,  4730000.   ,       16.5  ,        6.25 ,\n",
       "         4735000.   ,       13.45 ,        8.1  ,  4740000.   ,\n",
       "              10.85 ,        0.   ,  4745000.   ,        8.45 ,\n",
       "              13.25 ,  4750000.   ,        6.4  ,       16.2  ,\n",
       "         4755000.   ,        4.75 ,       19.6  ,  4760000.   ,\n",
       "               3.45 ,       23.3  ,  4765000.   ,        2.475,\n",
       "              27.4  ,  4770000.   ,        1.75 ,       31.65 ,\n",
       "         4775000.   ,        1.25 ,       36.15 ,  4780000.   ,\n",
       "               0.85 ,       40.8  ,  4785000.   ,        0.6  ,\n",
       "              45.55 ,  4790000.   ,        0.425,       50.4  ,\n",
       "         4795000.   ,        0.3  ,       55.3  , 34206000.   ,\n",
       "               8.45 ,       13.25 ,        0.   ,        0.   ,\n",
       "            1000.   ]),\n",
       " 0.0,\n",
       " False,\n",
       " False,\n",
       " {})"
      ]
     },
     "execution_count": 127,
     "metadata": {},
     "output_type": "execute_result"
    }
   ],
   "source": [
    "s = env.step(0)\n",
    "s\n",
    "# s[0].shape  \n",
    "# s[0][21]\n",
    "# s[0][22]\n",
    "# s[21]"
   ]
  },
  {
   "cell_type": "code",
   "execution_count": 130,
   "metadata": {},
   "outputs": [
    {
     "data": {
      "text/plain": [
       "13.25"
      ]
     },
     "execution_count": 130,
     "metadata": {},
     "output_type": "execute_result"
    }
   ],
   "source": [
    "# type(s[0])\n",
    "s[0][-4]"
   ]
  },
  {
   "cell_type": "code",
   "execution_count": 113,
   "metadata": {},
   "outputs": [
    {
     "name": "stderr",
     "output_type": "stream",
     "text": [
      "/usr/local/lib/python3.10/site-packages/gymnasium/core.py:311: UserWarning: \u001b[33mWARN: env.quotes to get variables from other wrappers is deprecated and will be removed in v1.0, to get this variable you can do `env.unwrapped.quotes` for environment variables or `env.get_wrapper_attr('quotes')` that will search the reminding wrappers.\u001b[0m\n",
      "  logger.warn(\n"
     ]
    },
    {
     "data": {
      "text/html": [
       "<div>\n",
       "<style scoped>\n",
       "    .dataframe tbody tr th:only-of-type {\n",
       "        vertical-align: middle;\n",
       "    }\n",
       "\n",
       "    .dataframe tbody tr th {\n",
       "        vertical-align: top;\n",
       "    }\n",
       "\n",
       "    .dataframe thead th {\n",
       "        text-align: right;\n",
       "    }\n",
       "</style>\n",
       "<table border=\"1\" class=\"dataframe\">\n",
       "  <thead>\n",
       "    <tr style=\"text-align: right;\">\n",
       "      <th></th>\n",
       "      <th>ms_of_day</th>\n",
       "      <th>strike</th>\n",
       "      <th>call_mid</th>\n",
       "      <th>put_mid</th>\n",
       "      <th>time_of_day</th>\n",
       "    </tr>\n",
       "  </thead>\n",
       "  <tbody>\n",
       "    <tr>\n",
       "      <th>0</th>\n",
       "      <td>34200000</td>\n",
       "      <td>4695000</td>\n",
       "      <td>0.0</td>\n",
       "      <td>0.0</td>\n",
       "      <td>09:30:00</td>\n",
       "    </tr>\n",
       "    <tr>\n",
       "      <th>1</th>\n",
       "      <td>34200000</td>\n",
       "      <td>4700000</td>\n",
       "      <td>0.0</td>\n",
       "      <td>0.0</td>\n",
       "      <td>09:30:00</td>\n",
       "    </tr>\n",
       "    <tr>\n",
       "      <th>2</th>\n",
       "      <td>34200000</td>\n",
       "      <td>4705000</td>\n",
       "      <td>0.0</td>\n",
       "      <td>0.0</td>\n",
       "      <td>09:30:00</td>\n",
       "    </tr>\n",
       "    <tr>\n",
       "      <th>3</th>\n",
       "      <td>34200000</td>\n",
       "      <td>4710000</td>\n",
       "      <td>0.0</td>\n",
       "      <td>0.0</td>\n",
       "      <td>09:30:00</td>\n",
       "    </tr>\n",
       "    <tr>\n",
       "      <th>4</th>\n",
       "      <td>34200000</td>\n",
       "      <td>4715000</td>\n",
       "      <td>0.0</td>\n",
       "      <td>0.0</td>\n",
       "      <td>09:30:00</td>\n",
       "    </tr>\n",
       "    <tr>\n",
       "      <th>5</th>\n",
       "      <td>34200000</td>\n",
       "      <td>4720000</td>\n",
       "      <td>0.0</td>\n",
       "      <td>0.0</td>\n",
       "      <td>09:30:00</td>\n",
       "    </tr>\n",
       "    <tr>\n",
       "      <th>6</th>\n",
       "      <td>34200000</td>\n",
       "      <td>4725000</td>\n",
       "      <td>0.0</td>\n",
       "      <td>0.0</td>\n",
       "      <td>09:30:00</td>\n",
       "    </tr>\n",
       "    <tr>\n",
       "      <th>7</th>\n",
       "      <td>34200000</td>\n",
       "      <td>4730000</td>\n",
       "      <td>0.0</td>\n",
       "      <td>0.0</td>\n",
       "      <td>09:30:00</td>\n",
       "    </tr>\n",
       "    <tr>\n",
       "      <th>8</th>\n",
       "      <td>34200000</td>\n",
       "      <td>4735000</td>\n",
       "      <td>0.0</td>\n",
       "      <td>0.0</td>\n",
       "      <td>09:30:00</td>\n",
       "    </tr>\n",
       "    <tr>\n",
       "      <th>9</th>\n",
       "      <td>34200000</td>\n",
       "      <td>4740000</td>\n",
       "      <td>0.0</td>\n",
       "      <td>0.0</td>\n",
       "      <td>09:30:00</td>\n",
       "    </tr>\n",
       "    <tr>\n",
       "      <th>10</th>\n",
       "      <td>34200000</td>\n",
       "      <td>4745000</td>\n",
       "      <td>0.0</td>\n",
       "      <td>0.0</td>\n",
       "      <td>09:30:00</td>\n",
       "    </tr>\n",
       "    <tr>\n",
       "      <th>11</th>\n",
       "      <td>34200000</td>\n",
       "      <td>4750000</td>\n",
       "      <td>0.0</td>\n",
       "      <td>0.0</td>\n",
       "      <td>09:30:00</td>\n",
       "    </tr>\n",
       "    <tr>\n",
       "      <th>12</th>\n",
       "      <td>34200000</td>\n",
       "      <td>4755000</td>\n",
       "      <td>0.0</td>\n",
       "      <td>0.0</td>\n",
       "      <td>09:30:00</td>\n",
       "    </tr>\n",
       "    <tr>\n",
       "      <th>13</th>\n",
       "      <td>34200000</td>\n",
       "      <td>4760000</td>\n",
       "      <td>0.0</td>\n",
       "      <td>0.0</td>\n",
       "      <td>09:30:00</td>\n",
       "    </tr>\n",
       "    <tr>\n",
       "      <th>14</th>\n",
       "      <td>34200000</td>\n",
       "      <td>4765000</td>\n",
       "      <td>0.0</td>\n",
       "      <td>0.0</td>\n",
       "      <td>09:30:00</td>\n",
       "    </tr>\n",
       "    <tr>\n",
       "      <th>15</th>\n",
       "      <td>34200000</td>\n",
       "      <td>4770000</td>\n",
       "      <td>0.0</td>\n",
       "      <td>0.0</td>\n",
       "      <td>09:30:00</td>\n",
       "    </tr>\n",
       "    <tr>\n",
       "      <th>16</th>\n",
       "      <td>34200000</td>\n",
       "      <td>4775000</td>\n",
       "      <td>0.0</td>\n",
       "      <td>0.0</td>\n",
       "      <td>09:30:00</td>\n",
       "    </tr>\n",
       "    <tr>\n",
       "      <th>17</th>\n",
       "      <td>34200000</td>\n",
       "      <td>4780000</td>\n",
       "      <td>0.0</td>\n",
       "      <td>0.0</td>\n",
       "      <td>09:30:00</td>\n",
       "    </tr>\n",
       "    <tr>\n",
       "      <th>18</th>\n",
       "      <td>34200000</td>\n",
       "      <td>4785000</td>\n",
       "      <td>0.0</td>\n",
       "      <td>0.0</td>\n",
       "      <td>09:30:00</td>\n",
       "    </tr>\n",
       "    <tr>\n",
       "      <th>19</th>\n",
       "      <td>34200000</td>\n",
       "      <td>4790000</td>\n",
       "      <td>0.0</td>\n",
       "      <td>0.0</td>\n",
       "      <td>09:30:00</td>\n",
       "    </tr>\n",
       "    <tr>\n",
       "      <th>20</th>\n",
       "      <td>34200000</td>\n",
       "      <td>4795000</td>\n",
       "      <td>0.0</td>\n",
       "      <td>0.0</td>\n",
       "      <td>09:30:00</td>\n",
       "    </tr>\n",
       "  </tbody>\n",
       "</table>\n",
       "</div>"
      ],
      "text/plain": [
       "    ms_of_day   strike  call_mid  put_mid time_of_day\n",
       "0    34200000  4695000       0.0      0.0    09:30:00\n",
       "1    34200000  4700000       0.0      0.0    09:30:00\n",
       "2    34200000  4705000       0.0      0.0    09:30:00\n",
       "3    34200000  4710000       0.0      0.0    09:30:00\n",
       "4    34200000  4715000       0.0      0.0    09:30:00\n",
       "5    34200000  4720000       0.0      0.0    09:30:00\n",
       "6    34200000  4725000       0.0      0.0    09:30:00\n",
       "7    34200000  4730000       0.0      0.0    09:30:00\n",
       "8    34200000  4735000       0.0      0.0    09:30:00\n",
       "9    34200000  4740000       0.0      0.0    09:30:00\n",
       "10   34200000  4745000       0.0      0.0    09:30:00\n",
       "11   34200000  4750000       0.0      0.0    09:30:00\n",
       "12   34200000  4755000       0.0      0.0    09:30:00\n",
       "13   34200000  4760000       0.0      0.0    09:30:00\n",
       "14   34200000  4765000       0.0      0.0    09:30:00\n",
       "15   34200000  4770000       0.0      0.0    09:30:00\n",
       "16   34200000  4775000       0.0      0.0    09:30:00\n",
       "17   34200000  4780000       0.0      0.0    09:30:00\n",
       "18   34200000  4785000       0.0      0.0    09:30:00\n",
       "19   34200000  4790000       0.0      0.0    09:30:00\n",
       "20   34200000  4795000       0.0      0.0    09:30:00"
      ]
     },
     "execution_count": 113,
     "metadata": {},
     "output_type": "execute_result"
    }
   ],
   "source": [
    "# env.quotes\n",
    "step_quotes = env.quotes[env.quotes['ms_of_day'] == 34200000]\n",
    "step_quotes\n"
   ]
  },
  {
   "cell_type": "code",
   "execution_count": 118,
   "metadata": {},
   "outputs": [
    {
     "data": {
      "text/plain": [
       "ms_of_day      34200000\n",
       "strike          4745000\n",
       "call_mid            0.0\n",
       "put_mid             0.0\n",
       "time_of_day    09:30:00\n",
       "Name: 10, dtype: object"
      ]
     },
     "execution_count": 118,
     "metadata": {},
     "output_type": "execute_result"
    }
   ],
   "source": [
    "# step_quotes.iloc[10]['strike']\n",
    "step_quotes.iloc[10]"
   ]
  }
 ],
 "metadata": {
  "kernelspec": {
   "display_name": "Python 3 (ipykernel)",
   "language": "python",
   "name": "python3"
  },
  "language_info": {
   "codemirror_mode": {
    "name": "ipython",
    "version": 3
   },
   "file_extension": ".py",
   "mimetype": "text/x-python",
   "name": "python",
   "nbconvert_exporter": "python",
   "pygments_lexer": "ipython3",
   "version": "3.10.14"
  }
 },
 "nbformat": 4,
 "nbformat_minor": 2
}
