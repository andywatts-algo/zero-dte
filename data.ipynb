{
 "cells": [
  {
   "cell_type": "code",
   "execution_count": 3,
   "metadata": {},
   "outputs": [
    {
     "name": "stdout",
     "output_type": "stream",
     "text": [
      "The autoreload extension is already loaded. To reload it, use:\n",
      "  %reload_ext autoreload\n"
     ]
    }
   ],
   "source": [
    "%load_ext autoreload\n",
    "%autoreload 2\n",
    "import pandas as pd\n",
    "import yfinance as yf\n",
    "from helpers import *"
   ]
  },
  {
   "cell_type": "markdown",
   "metadata": {},
   "source": [
    "#### SPX OHLC"
   ]
  },
  {
   "cell_type": "code",
   "execution_count": null,
   "metadata": {},
   "outputs": [],
   "source": [
    "spx = yf.Ticker('^SPX')\n",
    "spx_history = spx.history(period='2y')\n",
    "spx_history"
   ]
  },
  {
   "cell_type": "markdown",
   "metadata": {},
   "source": [
    "#### ATM Options"
   ]
  },
  {
   "cell_type": "code",
   "execution_count": null,
   "metadata": {},
   "outputs": [],
   "source": [
    "date_range = pd.date_range(start=\"2023-01-03\", end = \"2024-06-30\", freq='D')\n",
    "df_concat = pd.DataFrame()\n",
    "\n",
    "for date in date_range:\n",
    "    date_hyphens = date.strftime('%Y-%m-%d')\n",
    "    date_no_hyphens = date.strftime('%Y%m%d')\n",
    "\n",
    "    if date_hyphens not in spx_history.index:\n",
    "        print(date_hyphens + \" OHLC not found\")\n",
    "        continue\n",
    "    else:\n",
    "        print(f\"{date_hyphens}\")\n",
    "        row = spx_history.loc[date_hyphens]\n",
    "        open = row['Open']\n",
    "        print(f\"\\tOpen:  {open:.2f}\")\n",
    "\n",
    "        strikes = pd.read_csv(f\"/data/thetadata/options/spxw/strikes/{date_no_hyphens}.csv.gz\", compression='gzip')\n",
    "        atm_strike = strikes.loc[(strikes.sub(Decimal(str(open * 1000))).abs().idxmin())]\n",
    "        atm_strike = atm_strike.iloc[0].strike\n",
    "        print(f\"\\tATM Strike: {atm_strike}\")\n",
    "\n",
    "        interval = '1m'\n",
    "        df = pd.read_csv(f\"/data/thetadata/options/spxw/0dte/{interval}/{date_no_hyphens}.csv.gz\", compression='gzip')\n",
    "        df = df[df['strike'] == atm_strike]\n",
    "        expected_rows = 782\n",
    "        if (len(df) != expected_rows):\n",
    "            print(f\"{date_no_hyphens} expected {expected_rows} rows but got {df.rows.count()}\")\n",
    "        print(f\"\\tOption prices: {len(df)}\")\n",
    "\n",
    "        df_concat = pd.concat([df_concat, df])\n",
    "\n",
    "df = df_concat.copy()"
   ]
  },
  {
   "cell_type": "markdown",
   "metadata": {},
   "source": [
    "### Prepare data"
   ]
  },
  {
   "cell_type": "code",
   "execution_count": 118,
   "metadata": {},
   "outputs": [
    {
     "name": "stdout",
     "output_type": "stream",
     "text": [
      "Number of quotes loaded: 145860\n"
     ]
    },
    {
     "data": {
      "text/html": [
       "<div>\n",
       "<style scoped>\n",
       "    .dataframe tbody tr th:only-of-type {\n",
       "        vertical-align: middle;\n",
       "    }\n",
       "\n",
       "    .dataframe tbody tr th {\n",
       "        vertical-align: top;\n",
       "    }\n",
       "\n",
       "    .dataframe thead th {\n",
       "        text-align: right;\n",
       "    }\n",
       "</style>\n",
       "<table border=\"1\" class=\"dataframe\">\n",
       "  <thead>\n",
       "    <tr style=\"text-align: right;\">\n",
       "      <th></th>\n",
       "      <th>date</th>\n",
       "      <th>ms_of_day</th>\n",
       "      <th>call_mid</th>\n",
       "      <th>put_mid</th>\n",
       "    </tr>\n",
       "    <tr>\n",
       "      <th>ts</th>\n",
       "      <th></th>\n",
       "      <th></th>\n",
       "      <th></th>\n",
       "      <th></th>\n",
       "    </tr>\n",
       "  </thead>\n",
       "  <tbody>\n",
       "    <tr>\n",
       "      <th>2023-01-03 09:31:00</th>\n",
       "      <td>20230103</td>\n",
       "      <td>34260000</td>\n",
       "      <td>16.900</td>\n",
       "      <td>16.10</td>\n",
       "    </tr>\n",
       "    <tr>\n",
       "      <th>2023-01-03 09:32:00</th>\n",
       "      <td>20230103</td>\n",
       "      <td>34320000</td>\n",
       "      <td>15.850</td>\n",
       "      <td>16.50</td>\n",
       "    </tr>\n",
       "    <tr>\n",
       "      <th>2023-01-03 09:33:00</th>\n",
       "      <td>20230103</td>\n",
       "      <td>34380000</td>\n",
       "      <td>16.600</td>\n",
       "      <td>15.05</td>\n",
       "    </tr>\n",
       "    <tr>\n",
       "      <th>2023-01-03 09:34:00</th>\n",
       "      <td>20230103</td>\n",
       "      <td>34440000</td>\n",
       "      <td>21.100</td>\n",
       "      <td>10.85</td>\n",
       "    </tr>\n",
       "    <tr>\n",
       "      <th>2023-01-03 09:35:00</th>\n",
       "      <td>20230103</td>\n",
       "      <td>34500000</td>\n",
       "      <td>17.700</td>\n",
       "      <td>12.85</td>\n",
       "    </tr>\n",
       "    <tr>\n",
       "      <th>...</th>\n",
       "      <td>...</td>\n",
       "      <td>...</td>\n",
       "      <td>...</td>\n",
       "      <td>...</td>\n",
       "    </tr>\n",
       "    <tr>\n",
       "      <th>2024-06-28 15:56:00</th>\n",
       "      <td>20240628</td>\n",
       "      <td>57360000</td>\n",
       "      <td>0.025</td>\n",
       "      <td>24.10</td>\n",
       "    </tr>\n",
       "    <tr>\n",
       "      <th>2024-06-28 15:57:00</th>\n",
       "      <td>20240628</td>\n",
       "      <td>57420000</td>\n",
       "      <td>0.025</td>\n",
       "      <td>27.20</td>\n",
       "    </tr>\n",
       "    <tr>\n",
       "      <th>2024-06-28 15:58:00</th>\n",
       "      <td>20240628</td>\n",
       "      <td>57480000</td>\n",
       "      <td>0.025</td>\n",
       "      <td>24.90</td>\n",
       "    </tr>\n",
       "    <tr>\n",
       "      <th>2024-06-28 15:59:00</th>\n",
       "      <td>20240628</td>\n",
       "      <td>57540000</td>\n",
       "      <td>0.025</td>\n",
       "      <td>26.90</td>\n",
       "    </tr>\n",
       "    <tr>\n",
       "      <th>2024-06-28 16:00:00</th>\n",
       "      <td>20240628</td>\n",
       "      <td>57600000</td>\n",
       "      <td>0.025</td>\n",
       "      <td>28.35</td>\n",
       "    </tr>\n",
       "  </tbody>\n",
       "</table>\n",
       "<p>145860 rows × 4 columns</p>\n",
       "</div>"
      ],
      "text/plain": [
       "                         date  ms_of_day  call_mid  put_mid\n",
       "ts                                                         \n",
       "2023-01-03 09:31:00  20230103   34260000    16.900    16.10\n",
       "2023-01-03 09:32:00  20230103   34320000    15.850    16.50\n",
       "2023-01-03 09:33:00  20230103   34380000    16.600    15.05\n",
       "2023-01-03 09:34:00  20230103   34440000    21.100    10.85\n",
       "2023-01-03 09:35:00  20230103   34500000    17.700    12.85\n",
       "...                       ...        ...       ...      ...\n",
       "2024-06-28 15:56:00  20240628   57360000     0.025    24.10\n",
       "2024-06-28 15:57:00  20240628   57420000     0.025    27.20\n",
       "2024-06-28 15:58:00  20240628   57480000     0.025    24.90\n",
       "2024-06-28 15:59:00  20240628   57540000     0.025    26.90\n",
       "2024-06-28 16:00:00  20240628   57600000     0.025    28.35\n",
       "\n",
       "[145860 rows x 4 columns]"
      ]
     },
     "execution_count": 118,
     "metadata": {},
     "output_type": "execute_result"
    }
   ],
   "source": [
    "# Add columns\n",
    "df['mid'] = round((df['bid'] + df['ask']) / 2, 4)\n",
    "# df['vbid'] = round((df['bid'] * df['bid_size']) /2, 4)\n",
    "# df['vask'] =  round((df['ask'] * df['ask_size']) /2, 4)\n",
    "\n",
    "# Drop columns\n",
    "df.drop(columns=['expiration', 'root', 'bid_exchange', 'bid_condition', 'ask_exchange', 'ask_condition'], inplace=True)\n",
    "df.drop(columns=['bid', 'bid_size', 'ask', 'ask_size'], inplace=True)\n",
    "df.drop(columns=['Unnamed: 0'], inplace=True)\n",
    "df.drop_duplicates(inplace=True)\n",
    "\n",
    "# Pivot bid/ask from separate rows to columns\n",
    "pivot_df = df.pivot_table(index=['date', 'ms_of_day'], columns='right', values='mid', aggfunc='first')\n",
    "pivot_df.columns = ['call_mid', 'put_mid'] # Rename the columns\n",
    "pivot_df = pivot_df.reset_index() # Reset the index\n",
    "\n",
    "# Remove opening interval and set datetime index\n",
    "pivot_df = pivot_df[pivot_df['ms_of_day'] != 34200000]\n",
    "pivot_df['ts'] = pd.to_datetime(pivot_df['date'], format='%Y%m%d') + pd.to_timedelta(pivot_df['ms_of_day'], unit='ms')\n",
    "pivot_df.set_index('ts', inplace=True)\n",
    "\n",
    "print(f\"Number of quotes loaded: {len(pivot_df)}\")\n",
    "pivot_df"
   ]
  },
  {
   "cell_type": "code",
   "execution_count": null,
   "metadata": {},
   "outputs": [],
   "source": []
  },
  {
   "cell_type": "code",
   "execution_count": null,
   "metadata": {},
   "outputs": [],
   "source": []
  }
 ],
 "metadata": {
  "kernelspec": {
   "display_name": "Python 3 (ipykernel)",
   "language": "python",
   "name": "python3"
  },
  "language_info": {
   "codemirror_mode": {
    "name": "ipython",
    "version": 3
   },
   "file_extension": ".py",
   "mimetype": "text/x-python",
   "name": "python",
   "nbconvert_exporter": "python",
   "pygments_lexer": "ipython3",
   "version": "3.10.14"
  }
 },
 "nbformat": 4,
 "nbformat_minor": 2
}
